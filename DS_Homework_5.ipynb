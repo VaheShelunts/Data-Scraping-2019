{
 "cells": [
  {
   "cell_type": "markdown",
   "metadata": {},
   "source": [
    "# Harkatu.am scraping, analysis of top taxpayers in Armenia"
   ]
  },
  {
   "cell_type": "code",
   "execution_count": 1,
   "metadata": {},
   "outputs": [],
   "source": [
    "import requests\n",
    "from scrapy.http import TextResponse\n",
    "import pandas as pd\n",
    "from selenium import webdriver\n",
    "import time"
   ]
  },
  {
   "cell_type": "code",
   "execution_count": 2,
   "metadata": {},
   "outputs": [],
   "source": [
    "url='https://www.harkatu.am/companies/hy?0#p/1'\n",
    "browser=webdriver.Chrome()\n",
    "browser.get(url)"
   ]
  },
  {
   "cell_type": "code",
   "execution_count": 3,
   "metadata": {},
   "outputs": [],
   "source": [
    "all_urls=['https://www.harkatu.am/companies/hy?0#p/{}'.format(i) for i in range(1,9)] #all urls from which info to be scraped"
   ]
  },
  {
   "cell_type": "code",
   "execution_count": 4,
   "metadata": {
    "scrolled": true
   },
   "outputs": [
    {
     "data": {
      "text/plain": [
       "['https://www.harkatu.am/companies/hy?0#p/1',\n",
       " 'https://www.harkatu.am/companies/hy?0#p/2',\n",
       " 'https://www.harkatu.am/companies/hy?0#p/3',\n",
       " 'https://www.harkatu.am/companies/hy?0#p/4',\n",
       " 'https://www.harkatu.am/companies/hy?0#p/5',\n",
       " 'https://www.harkatu.am/companies/hy?0#p/6',\n",
       " 'https://www.harkatu.am/companies/hy?0#p/7',\n",
       " 'https://www.harkatu.am/companies/hy?0#p/8']"
      ]
     },
     "execution_count": 4,
     "metadata": {},
     "output_type": "execute_result"
    }
   ],
   "source": [
    "all_urls"
   ]
  },
  {
   "cell_type": "code",
   "execution_count": 5,
   "metadata": {},
   "outputs": [],
   "source": [
    "page=browser.page_source\n",
    "response=TextResponse(url=url, body=page, encoding = 'utf-8')"
   ]
  },
  {
   "cell_type": "code",
   "execution_count": 6,
   "metadata": {},
   "outputs": [
    {
     "data": {
      "text/plain": [
       "['13,570,605',\n",
       " '12,830,020',\n",
       " '6,684,445',\n",
       " '4,544,427',\n",
       " '4,295,157',\n",
       " '3,955,956',\n",
       " '3,769,765',\n",
       " '3,753,700',\n",
       " '3,414,762',\n",
       " '2,794,111',\n",
       " '2,590,033',\n",
       " '2,389,817',\n",
       " '2,356,659',\n",
       " '2,061,793',\n",
       " '1,751,630',\n",
       " '1,564,916',\n",
       " '1,485,612',\n",
       " '1,403,194',\n",
       " '1,399,955',\n",
       " '1,363,849',\n",
       " '1,316,943',\n",
       " '1,279,783',\n",
       " '1,276,919',\n",
       " '1,262,660',\n",
       " '1,261,087']"
      ]
     },
     "execution_count": 6,
     "metadata": {},
     "output_type": "execute_result"
    }
   ],
   "source": [
    "response.css('td.sales-volume>div.volume::text').extract()[1::2][:25] #taxes"
   ]
  },
  {
   "cell_type": "code",
   "execution_count": 7,
   "metadata": {
    "scrolled": true
   },
   "outputs": [
    {
     "data": {
      "text/plain": [
       "['ԳԱԶՊՐՈՄ ԱՐՄԵՆԻԱ',\n",
       " 'ԳՐԱՆԴ ՏՈԲԱԿՈ',\n",
       " 'ԶԱՆԳԵԶՈՒՐԻ ՊՂՆՁԱՄՈԼԻԲԴԵՆԱՅԻՆ ԿՈՄԲԻՆԱՏ',\n",
       " 'ՀԱՅԱՍՏԱՆԻ ԷԼԵԿՏՐԱԿԱՆ ՑԱՆՑԵՐ',\n",
       " 'ԳԵՈՊՐՈՄԱՅՆԻՆԳ ԳՈԼԴ',\n",
       " 'ԻՆՏԵՐՆԵՅՇՆԼ ՄԱՍԻՍ ՏԱԲԱԿ',\n",
       " 'ՍԻՓԻԷՍ ՕԻԼ ՔՈՐՓՈՐԵՅՇՆ',\n",
       " 'ՖԼԵՇ',\n",
       " 'ԱԿՎԻԼՈՆ ԹՐԵՅԴ',\n",
       " 'ԱՐՄԵՆԻԱ ՄԻՋԱԶԳԱՅԻՆ ՕԴԱՆԱՎԱԿԱՅԱՆՆԵՐ',\n",
       " 'ՄԱՔՍ ՊԵՏՐՈԼ',\n",
       " 'ՀԱՅԿԱԿԱՆ ԱՏՈՄԱՅԻՆ ԷԼԵԿՏՐԱԿԱՅԱՆ',\n",
       " 'ԱՐՄԵՆԻԱՆ ՄԱՅՆԻՆԳ ՔՈՆԹՐԱՔԹՈՐ',\n",
       " 'ՅՈՒՔՈՄ',\n",
       " 'ԳԱԶՊՐՈՄ ԱՐՄԵՆԻԱ ՓԲԸ ՏՐԱՆՍԳԱԶ',\n",
       " 'ՍԻԹԻ',\n",
       " 'ԳՐԱՆԴ ՄԱՍՏԵՐ',\n",
       " 'ԳՐԱՆԴ ՔԵՆԴԻ',\n",
       " 'ՄՈԲԱՅԼ ՍԵՆԹՐ ԱՐԹ',\n",
       " 'ԱՄԵՐԻԱԲԱՆԿ',\n",
       " 'ԱԼԵՔՍ ԷՆԴ ՀՈԼԴԻՆԳ',\n",
       " 'ՎԵՈԼԻԱ ՋՈՒՐ',\n",
       " 'ՀԱՅԲԻԶՆԵՍԲԱՆԿ ՓԲԸ',\n",
       " 'ԱՎՏՈՆԵՐԿՐՈՂ -10',\n",
       " 'ԵՐԵՎԱՆԻ ՋԵՐՄԱԷԼԵԿՏՐԱԿԵՆՏՐՈՆ']"
      ]
     },
     "execution_count": 7,
     "metadata": {},
     "output_type": "execute_result"
    }
   ],
   "source": [
    "response.css('h1> a> span::text').extract()"
   ]
  },
  {
   "cell_type": "code",
   "execution_count": 8,
   "metadata": {},
   "outputs": [
    {
     "data": {
      "text/plain": [
       "['Գազի մատակարարում',\n",
       " 'Ծխախոտային արտադրատեսակներ',\n",
       " 'Մետաղական հանքարդյունաբերություն',\n",
       " 'Էլեկտրականության մատակարարում',\n",
       " 'Մետաղական հանքարդյունաբերություն',\n",
       " 'Ծխախոտային արտադրատեսակներ',\n",
       " 'Վառելիքի վաճառք, Վառելիքի ներմուծում',\n",
       " 'Մանրածախ առևտուր, Մեծածախ առևտուր',\n",
       " 'Հագուստի վաճառք, Մեծածախ առևտուր',\n",
       " 'Տրանսպորտ',\n",
       " 'Վառելիքի ներմուծում, Վառելիքի վաճառք',\n",
       " 'Էլեկտրականության արտադրություն',\n",
       " 'Տրանսպորտ, Ցամաքային տրանսպորտ',\n",
       " 'Հեռահաղորդակցություն',\n",
       " 'Գազի մատակարարում',\n",
       " 'Արդյունաբերություն',\n",
       " 'Սննդամթերքի արտադրություն',\n",
       " 'Ներմուծում, Առևտուր',\n",
       " 'Բանկային ոլորտ',\n",
       " 'Ջրամատակարարում և կոյուղի',\n",
       " 'Բանկային ոլորտ',\n",
       " 'Էլեկտրականության արտադրություն']"
      ]
     },
     "execution_count": 8,
     "metadata": {},
     "output_type": "execute_result"
    }
   ],
   "source": [
    "response.css('div.industry::text').extract()"
   ]
  },
  {
   "cell_type": "code",
   "execution_count": 9,
   "metadata": {},
   "outputs": [],
   "source": [
    "### SCRAPING ALL THE NECESSARY INFORMATION FROM ALL PAGES USING FOR LOOP ###\n",
    "all_taxes=[]\n",
    "all_companies=[]\n",
    "all_industries=[]\n",
    "for i in all_urls:\n",
    "    browser.get(i)\n",
    "    time.sleep(3) #giving some more time for the new page to load and info to be scraped\n",
    "    page=browser.page_source\n",
    "    response=TextResponse(url=i, body=page, encoding = 'utf-8')\n",
    "    taxes=response.css('td.sales-volume>div.volume::text').extract()[1::2][:25] # all taxes\n",
    "    companies=response.css('h1> a> span::text').extract() # all companies\n",
    "    industries=response.css('div.industry::text').extract() # all industries\n",
    "    all_taxes.extend(taxes)\n",
    "    all_companies.extend(companies)\n",
    "    all_industries.extend(industries)"
   ]
  },
  {
   "cell_type": "code",
   "execution_count": 10,
   "metadata": {},
   "outputs": [
    {
     "name": "stdout",
     "output_type": "stream",
     "text": [
      "200\n",
      "200\n",
      "183\n"
     ]
    }
   ],
   "source": [
    "print(len(all_taxes))\n",
    "print(len(all_companies))\n",
    "print(len(all_industries)) #some companies do not have industry indication, that is why the count is not the same"
   ]
  },
  {
   "cell_type": "code",
   "execution_count": 12,
   "metadata": {},
   "outputs": [],
   "source": [
    "all_taxes=[i.replace(\",\",\"\") for i in all_taxes] #eliminating commas to convert to integers later\n",
    "all_taxes=pd.Series(all_taxes).astype(int)"
   ]
  },
  {
   "cell_type": "code",
   "execution_count": 13,
   "metadata": {},
   "outputs": [
    {
     "data": {
      "text/plain": [
       "809770.225"
      ]
     },
     "execution_count": 13,
     "metadata": {},
     "output_type": "execute_result"
    }
   ],
   "source": [
    "all_taxes.mean() #the average taxes paid per annum"
   ]
  },
  {
   "cell_type": "code",
   "execution_count": 14,
   "metadata": {},
   "outputs": [
    {
     "data": {
      "text/plain": [
       "Բանկային ոլորտ             14\n",
       "Խմիչքների արտադրություն    11\n",
       "Արդյունաբերություն          6\n",
       "Ներմուծում                  6\n",
       "Ծրագրային ապահովում         5\n",
       "dtype: int64"
      ]
     },
     "execution_count": 14,
     "metadata": {},
     "output_type": "execute_result"
    }
   ],
   "source": [
    "all_industries=pd.Series(all_industries)\n",
    "all_industries.value_counts()[:5]"
   ]
  },
  {
   "cell_type": "markdown",
   "metadata": {},
   "source": [
    "The top industries that pay taxes are banking, drinks production and manufacturing."
   ]
  }
 ],
 "metadata": {
  "kernelspec": {
   "display_name": "Python 3",
   "language": "python",
   "name": "python3"
  },
  "language_info": {
   "codemirror_mode": {
    "name": "ipython",
    "version": 3
   },
   "file_extension": ".py",
   "mimetype": "text/x-python",
   "name": "python",
   "nbconvert_exporter": "python",
   "pygments_lexer": "ipython3",
   "version": "3.7.3"
  }
 },
 "nbformat": 4,
 "nbformat_minor": 2
}
