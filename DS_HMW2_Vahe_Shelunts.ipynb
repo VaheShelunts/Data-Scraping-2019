{
 "cells": [
  {
   "cell_type": "markdown",
   "metadata": {},
   "source": [
    "# Homework 2: Web Scraping and RegEx"
   ]
  },
  {
   "cell_type": "code",
   "execution_count": 83,
   "metadata": {},
   "outputs": [],
   "source": [
    "import pandas as pd\n",
    "import re\n",
    "import requests\n",
    "from collections import Counter\n",
    "from scrapy.http import TextResponse\n",
    "import numpy as np\n",
    "import collections\n",
    "import time"
   ]
  },
  {
   "cell_type": "markdown",
   "metadata": {},
   "source": [
    "# Task 1"
   ]
  },
  {
   "cell_type": "code",
   "execution_count": 2,
   "metadata": {},
   "outputs": [],
   "source": [
    "all_urls=['http://books.toscrape.com/catalogue/page-{}.html'.format(i) for i in range(1,51)]"
   ]
  },
  {
   "cell_type": "code",
   "execution_count": 26,
   "metadata": {},
   "outputs": [],
   "source": [
    "#XPATH APPROACH\n",
    "def title_scraper(url):\n",
    "    page=requests.get(url)\n",
    "    response=TextResponse(url=page.url,body=page.text,encoding=\"utf-8\")\n",
    "    titles=response.xpath('//h3/a/@title').extract()\n",
    "    return titles"
   ]
  },
  {
   "cell_type": "code",
   "execution_count": 207,
   "metadata": {},
   "outputs": [],
   "source": [
    "#CSS SELECTOR\n",
    "def title_scraper1(url):\n",
    "    page=requests.get(url)\n",
    "    response=TextResponse(url=page.url,body=page.text,encoding=\"utf-8\")\n",
    "    titles=response.css('h3>a::attr(\"title\")').extract()\n",
    "    return titles"
   ]
  },
  {
   "cell_type": "code",
   "execution_count": 107,
   "metadata": {
    "scrolled": false
   },
   "outputs": [],
   "source": [
    "all_titles=[]\n",
    "for i in all_urls:\n",
    "    all_titles.extend(title_scraper(i))"
   ]
  },
  {
   "cell_type": "code",
   "execution_count": 108,
   "metadata": {},
   "outputs": [
    {
     "name": "stdout",
     "output_type": "stream",
     "text": [
      "['A Light in the Attic', 'Tipping the Velvet', 'Soumission', 'Sharp Objects', 'Sapiens: A Brief History of Humankind', 'The Requiem Red', 'The Dirty Little Secrets of Getting Your Dream Job', 'The Coming Woman: A Novel Based on the Life of the Infamous Feminist, Victoria Woodhull', 'The Boys in the Boat: Nine Americans and Their Epic Quest for Gold at the 1936 Berlin Olympics', 'The Black Maria']\n"
     ]
    }
   ],
   "source": [
    "print(all_titles[0:10])"
   ]
  },
  {
   "cell_type": "code",
   "execution_count": 151,
   "metadata": {},
   "outputs": [],
   "source": [
    "def price_scraper(url):\n",
    "    page=requests.get(url)\n",
    "    response=TextResponse(url=page.url,body=page.text,encoding=\"utf-8\")\n",
    "    prices=response.css(\"p[class='price_color']::text\").extract()\n",
    "    return prices"
   ]
  },
  {
   "cell_type": "code",
   "execution_count": 109,
   "metadata": {},
   "outputs": [],
   "source": [
    "all_prices=[]\n",
    "for i in all_urls:\n",
    "    all_prices.extend(price_scraper(i))"
   ]
  },
  {
   "cell_type": "code",
   "execution_count": 110,
   "metadata": {},
   "outputs": [
    {
     "name": "stdout",
     "output_type": "stream",
     "text": [
      "['Â£51.77', 'Â£53.74', 'Â£50.10', 'Â£47.82', 'Â£54.23', 'Â£22.65', 'Â£33.34', 'Â£17.93', 'Â£22.60', 'Â£52.15']\n"
     ]
    }
   ],
   "source": [
    "print(all_prices[:10])"
   ]
  },
  {
   "cell_type": "code",
   "execution_count": 78,
   "metadata": {},
   "outputs": [],
   "source": [
    "#CSS SELECTOR\n",
    "def rating_scraper(url):\n",
    "    page=requests.get(url)\n",
    "    response=TextResponse(url=page.url,body=page.text,encoding=\"utf-8\")\n",
    "    ratings=response.css('article>p[class]::attr(\"class\")').extract()\n",
    "    return ratings"
   ]
  },
  {
   "cell_type": "code",
   "execution_count": 75,
   "metadata": {},
   "outputs": [],
   "source": [
    "#XPATH METHOD\n",
    "def rating_scraper1(url):\n",
    "    page=requests.get(url)\n",
    "    response=TextResponse(url=page.url,body=page.text,encoding=\"utf-8\")\n",
    "    ratings=response.xpath(\"//atricle/p\").extract()\n",
    "    return ratings"
   ]
  },
  {
   "cell_type": "code",
   "execution_count": 111,
   "metadata": {},
   "outputs": [],
   "source": [
    "all_ratings=[]\n",
    "for i in all_urls:\n",
    "    all_ratings.extend(rating_scraper(i))"
   ]
  },
  {
   "cell_type": "code",
   "execution_count": 112,
   "metadata": {},
   "outputs": [
    {
     "name": "stdout",
     "output_type": "stream",
     "text": [
      "['star-rating Three', 'star-rating One', 'star-rating One', 'star-rating Four', 'star-rating Five', 'star-rating One', 'star-rating Four', 'star-rating Three', 'star-rating Four', 'star-rating One']\n"
     ]
    }
   ],
   "source": [
    "print(all_ratings[:10])"
   ]
  },
  {
   "cell_type": "markdown",
   "metadata": {},
   "source": [
    "# Task 2"
   ]
  },
  {
   "cell_type": "code",
   "execution_count": 220,
   "metadata": {},
   "outputs": [
    {
     "name": "stdout",
     "output_type": "stream",
     "text": [
      "[('star-rating One', 226), ('star-rating Three', 203), ('star-rating Five', 196), ('star-rating Two', 196), ('star-rating Four', 179)]\n"
     ]
    }
   ],
   "source": [
    "counter=collections.Counter(all_ratings)\n",
    "print(counter.most_common())\n",
    "#Most common rating is 1\n",
    "#Number of books having that rating=226"
   ]
  },
  {
   "cell_type": "code",
   "execution_count": 90,
   "metadata": {},
   "outputs": [
    {
     "data": {
      "text/plain": [
       "226"
      ]
     },
     "execution_count": 90,
     "metadata": {},
     "output_type": "execute_result"
    }
   ],
   "source": [
    "common[1] #number of books having that rating"
   ]
  },
  {
   "cell_type": "code",
   "execution_count": 93,
   "metadata": {},
   "outputs": [
    {
     "data": {
      "text/plain": [
       "34.56119469026549"
      ]
     },
     "execution_count": 93,
     "metadata": {},
     "output_type": "execute_result"
    }
   ],
   "source": [
    "lst=[]\n",
    "for i in range(len(all_ratings)):\n",
    "    rating=all_ratings[i]\n",
    "    if(rating==Most_common[0]):\n",
    "        price=all_prices[i][2:]\n",
    "        lst.append(price)\n",
    "array=[float(numstring) for numstring in lst]\n",
    "nplis=np.array(array)\n",
    "np.mean(array) #average price for most_common rating"
   ]
  },
  {
   "cell_type": "markdown",
   "metadata": {},
   "source": [
    "# Task 3"
   ]
  },
  {
   "cell_type": "code",
   "execution_count": 6,
   "metadata": {},
   "outputs": [],
   "source": [
    "def book_url_scraper(url):\n",
    "    page=requests.get(url)\n",
    "    response=TextResponse(url=page.url,body=page.text, encoding='utf-8')\n",
    "    url=response.css(\"h3>a::attr(href)\").extract()\n",
    "    return url"
   ]
  },
  {
   "cell_type": "code",
   "execution_count": 113,
   "metadata": {},
   "outputs": [],
   "source": [
    "all_book_urls=[]\n",
    "for url in all_urls:\n",
    "    all_book_urls.extend(book_url_scraper(url))"
   ]
  },
  {
   "cell_type": "code",
   "execution_count": 114,
   "metadata": {},
   "outputs": [
    {
     "name": "stdout",
     "output_type": "stream",
     "text": [
      "['a-light-in-the-attic_1000/index.html', 'tipping-the-velvet_999/index.html', 'soumission_998/index.html', 'sharp-objects_997/index.html', 'sapiens-a-brief-history-of-humankind_996/index.html', 'the-requiem-red_995/index.html', 'the-dirty-little-secrets-of-getting-your-dream-job_994/index.html', 'the-coming-woman-a-novel-based-on-the-life-of-the-infamous-feminist-victoria-woodhull_993/index.html', 'the-boys-in-the-boat-nine-americans-and-their-epic-quest-for-gold-at-the-1936-berlin-olympics_992/index.html', 'the-black-maria_991/index.html']\n"
     ]
    }
   ],
   "source": [
    " print(all_book_urls[:10])"
   ]
  },
  {
   "cell_type": "code",
   "execution_count": 14,
   "metadata": {},
   "outputs": [],
   "source": [
    "def description_scraper(url):\n",
    "    page=requests.get(url)\n",
    "    response=TextResponse(url=page.url,body=page.text, encoding='utf-8')\n",
    "    description=response.xpath('//div[@id=\"content_inner\"]/article/p/text()').extract()\n",
    "    return description"
   ]
  },
  {
   "cell_type": "code",
   "execution_count": 115,
   "metadata": {},
   "outputs": [],
   "source": [
    "all_descriptions=[]\n",
    "for i in all_book_urls:\n",
    "    all_descriptions.extend(description_scraper('http://books.toscrape.com/catalogue/'+i))"
   ]
  },
  {
   "cell_type": "code",
   "execution_count": 117,
   "metadata": {},
   "outputs": [
    {
     "name": "stdout",
     "output_type": "stream",
     "text": [
      "[\"It's hard to imagine a world without A Light in the Attic. This now-classic collection of poetry and drawings from Shel Silverstein celebrates its 20th anniversary with this special edition. Silverstein's humorous and creative verse can amuse the dowdiest of readers. Lemon-faced adults and fidgety kids sit still and read these rhythmic words and laugh and smile and love th It's hard to imagine a world without A Light in the Attic. This now-classic collection of poetry and drawings from Shel Silverstein celebrates its 20th anniversary with this special edition. Silverstein's humorous and creative verse can amuse the dowdiest of readers. Lemon-faced adults and fidgety kids sit still and read these rhythmic words and laugh and smile and love that Silverstein. Need proof of his genius? RockabyeRockabye baby, in the treetopDon't you know a treetopIs no safe place to rock?And who put you up there,And your cradle, too?Baby, I think someone down here'sGot it in for you. Shel, you never sounded so good. ...more\", '\"Erotic and absorbing...Written with starling power.\"--\"The New York Times Book Review \" Nan King, an oyster girl, is captivated by the music hall phenomenon Kitty Butler, a male impersonator extraordinaire treading the boards in Canterbury. Through a friend at the box office, Nan manages to visit all her shows and finally meet her heroine. Soon after, she becomes Kitty\\'s \"Erotic and absorbing...Written with starling power.\"--\"The New York Times Book Review \" Nan King, an oyster girl, is captivated by the music hall phenomenon Kitty Butler, a male impersonator extraordinaire treading the boards in Canterbury. Through a friend at the box office, Nan manages to visit all her shows and finally meet her heroine. Soon after, she becomes Kitty\\'s dresser and the two head for the bright lights of Leicester Square where they begin a glittering career as music-hall stars in an all-singing and dancing double act. At the same time, behind closed doors, they admit their attraction to each other and their affair begins. ...more', 'Dans une France assez proche de la nÃ´tre, un homme sâ\\x80\\x99engage dans la carriÃ¨re universitaire. Peu motivÃ© par lâ\\x80\\x99enseignement, il sâ\\x80\\x99attend Ã\\xa0 une vie ennuyeuse mais calme, protÃ©gÃ©e des grands drames historiques. Cependant les forces en jeu dans le pays ont fissurÃ© le systÃ¨me politique jusquâ\\x80\\x99Ã\\xa0 provoquer son effondrement. Cette implosion sans soubresauts, sans vraie rÃ©volution, s Dans une France assez proche de la nÃ´tre, un homme sâ\\x80\\x99engage dans la carriÃ¨re universitaire. Peu motivÃ© par lâ\\x80\\x99enseignement, il sâ\\x80\\x99attend Ã\\xa0 une vie ennuyeuse mais calme, protÃ©gÃ©e des grands drames historiques. Cependant les forces en jeu dans le pays ont fissurÃ© le systÃ¨me politique jusquâ\\x80\\x99Ã\\xa0 provoquer son effondrement. Cette implosion sans soubresauts, sans vraie rÃ©volution, se dÃ©veloppe comme un mauvais rÃªve.Le talent de lâ\\x80\\x99auteur, sa force visionnaire nous entraÃ®nent sur un terrain ambigu et glissant ; son regard sur notre civilisation vieillissante fait coexister dans ce roman les intuitions poÃ©tiques, les effets comiques, une mÃ©lancolie fataliste.Ce livre est une saisissante fable politique et morale. ...more']\n"
     ]
    }
   ],
   "source": [
    "print(all_descriptions[:3])"
   ]
  },
  {
   "cell_type": "markdown",
   "metadata": {},
   "source": [
    "# Task 4"
   ]
  },
  {
   "cell_type": "code",
   "execution_count": 143,
   "metadata": {},
   "outputs": [],
   "source": [
    "books_dig = 0\n",
    "for i in all_titles:\n",
    "    book_with_digits=re.findall('\\d',i)\n",
    "    if book_with_digits:\n",
    "        books_dig = books_dig+1"
   ]
  },
  {
   "cell_type": "code",
   "execution_count": 144,
   "metadata": {},
   "outputs": [
    {
     "data": {
      "text/plain": [
       "365"
      ]
     },
     "execution_count": 144,
     "metadata": {},
     "output_type": "execute_result"
    }
   ],
   "source": [
    "books_dig #the number of books with numeric charachter in title"
   ]
  },
  {
   "cell_type": "code",
   "execution_count": 168,
   "metadata": {
    "scrolled": true
   },
   "outputs": [],
   "source": [
    "year=0\n",
    "for i in all_titles:\n",
    "    book_with_year=re.findall(r'.*[1-2][0-9]{3}',i)\n",
    "    if book_with_year:\n",
    "        year=year+1"
   ]
  },
  {
   "cell_type": "code",
   "execution_count": 169,
   "metadata": {},
   "outputs": [
    {
     "data": {
      "text/plain": [
       "8"
      ]
     },
     "execution_count": 169,
     "metadata": {},
     "output_type": "execute_result"
    }
   ],
   "source": [
    "year #number of books with year in title"
   ]
  },
  {
   "cell_type": "code",
   "execution_count": 175,
   "metadata": {},
   "outputs": [],
   "source": [
    "condition=0\n",
    "for i in all_titles:\n",
    "    book_with_condition=re.findall(r'#\\d',i)\n",
    "    if book_with_condition:\n",
    "        condition=condition+1"
   ]
  },
  {
   "cell_type": "code",
   "execution_count": 174,
   "metadata": {},
   "outputs": [
    {
     "data": {
      "text/plain": [
       "313"
      ]
     },
     "execution_count": 174,
     "metadata": {},
     "output_type": "execute_result"
    }
   ],
   "source": [
    "condition #number of books with enumerated character"
   ]
  }
 ],
 "metadata": {
  "kernelspec": {
   "display_name": "Python 3",
   "language": "python",
   "name": "python3"
  },
  "language_info": {
   "codemirror_mode": {
    "name": "ipython",
    "version": 3
   },
   "file_extension": ".py",
   "mimetype": "text/x-python",
   "name": "python",
   "nbconvert_exporter": "python",
   "pygments_lexer": "ipython3",
   "version": "3.6.4"
  }
 },
 "nbformat": 4,
 "nbformat_minor": 2
}
